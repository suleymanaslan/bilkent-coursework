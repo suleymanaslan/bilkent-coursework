{
 "cells": [
  {
   "cell_type": "code",
   "execution_count": null,
   "metadata": {},
   "outputs": [],
   "source": [
    "import seaborn as sns\n",
    "\n",
    "import utils\n",
    "import evaluation_functions\n",
    "\n",
    "sns.set()"
   ]
  },
  {
   "cell_type": "code",
   "execution_count": null,
   "metadata": {},
   "outputs": [],
   "source": [
    "data1_sm, data1_class_labels = utils.read_data(\"data1\")\n",
    "data2_sm, data2_class_labels = utils.read_data(\"data2\")\n",
    "data3_sm, data3_class_labels = utils.read_data(\"data3\")\n",
    "data4_sm, data4_class_labels = utils.read_data(\"data4\")"
   ]
  },
  {
   "cell_type": "code",
   "execution_count": null,
   "metadata": {},
   "outputs": [],
   "source": [
    "data1_sm, min_data1_sm, max_data1_sm = utils.normalize_data(data1_sm)\n",
    "data2_sm, min_data2_sm, max_data2_sm = utils.normalize_data(data2_sm)\n",
    "data3_sm, min_data3_sm, max_data3_sm = utils.normalize_data(data3_sm)\n",
    "data4_sm, min_data4_sm, max_data4_sm = utils.normalize_data(data4_sm)"
   ]
  },
  {
   "cell_type": "code",
   "execution_count": null,
   "metadata": {},
   "outputs": [],
   "source": [
    "frr_list, far_list, eer_threshold_index, eer_threshold = evaluation_functions.find_eer(data1_sm, data1_class_labels)\n",
    "frr_at_01, frr_at_1, frr_at_10 = evaluation_functions.compute_frr_at_far_points(frr_list, far_list)\n",
    "utils.print_results(\"data1\", (frr_list[eer_threshold_index] + far_list[eer_threshold_index]) / 2, frr_list[eer_threshold_index], \n",
    "                    far_list[eer_threshold_index], eer_threshold, eer_threshold*(max_data1_sm-min_data1_sm)+min_data1_sm, frr_at_10, frr_at_1, frr_at_01)"
   ]
  },
  {
   "cell_type": "code",
   "execution_count": null,
   "metadata": {},
   "outputs": [],
   "source": [
    "genuine_scores_list, impostor_scores_list = evaluation_functions.get_scores(data1_sm, data1_class_labels)\n",
    "utils.plot_score_distributions(\"First\", 1, genuine_scores_list, impostor_scores_list)"
   ]
  },
  {
   "cell_type": "code",
   "execution_count": null,
   "metadata": {},
   "outputs": [],
   "source": [
    "utils.plot_score_distributions(\"First\", 1, genuine_scores_list, impostor_scores_list, zoomed=True, axis_values=[0.8, 1.005, 0.0, 20])"
   ]
  },
  {
   "cell_type": "code",
   "execution_count": null,
   "metadata": {},
   "outputs": [],
   "source": [
    "utils.plot_roc_curve(\"First\", 1, far_list, frr_list)"
   ]
  },
  {
   "cell_type": "code",
   "execution_count": null,
   "metadata": {},
   "outputs": [],
   "source": [
    "utils.plot_roc_curve(\"First\", 1, far_list, frr_list, zoomed=True, axis_values=[0.0, 0.16, 0.84, 1.008])"
   ]
  },
  {
   "cell_type": "code",
   "execution_count": null,
   "metadata": {},
   "outputs": [],
   "source": [
    "frr_list, far_list, eer_threshold_index, eer_threshold = evaluation_functions.find_eer(data2_sm, data2_class_labels)\n",
    "frr_at_01, frr_at_1, frr_at_10 = evaluation_functions.compute_frr_at_far_points(frr_list, far_list)\n",
    "utils.print_results(\"data2\", (frr_list[eer_threshold_index] + far_list[eer_threshold_index]) / 2, frr_list[eer_threshold_index], \n",
    "                    far_list[eer_threshold_index], eer_threshold, eer_threshold*(max_data2_sm-min_data2_sm)+min_data2_sm, frr_at_10, frr_at_1, frr_at_01)"
   ]
  },
  {
   "cell_type": "code",
   "execution_count": null,
   "metadata": {},
   "outputs": [],
   "source": [
    "genuine_scores_list, impostor_scores_list = evaluation_functions.get_scores(data2_sm, data2_class_labels)\n",
    "utils.plot_score_distributions(\"Second\", 2, genuine_scores_list, impostor_scores_list)"
   ]
  },
  {
   "cell_type": "code",
   "execution_count": null,
   "metadata": {},
   "outputs": [],
   "source": [
    "utils.plot_roc_curve(\"Second\", 2, far_list, frr_list)"
   ]
  },
  {
   "cell_type": "code",
   "execution_count": null,
   "metadata": {},
   "outputs": [],
   "source": [
    "utils.plot_roc_curve(\"Second\", 2, far_list, frr_list, zoomed=True, axis_values=[0.0, 0.1, 0.9, 1.005])"
   ]
  },
  {
   "cell_type": "code",
   "execution_count": null,
   "metadata": {},
   "outputs": [],
   "source": [
    "frr_list, far_list, eer_threshold_index, eer_threshold = evaluation_functions.find_eer(data3_sm, data3_class_labels)\n",
    "frr_at_01, frr_at_1, frr_at_10 = evaluation_functions.compute_frr_at_far_points(frr_list, far_list)\n",
    "utils.print_results(\"data3\", (frr_list[eer_threshold_index] + far_list[eer_threshold_index]) / 2, frr_list[eer_threshold_index], \n",
    "                    far_list[eer_threshold_index], eer_threshold, eer_threshold*(max_data3_sm-min_data3_sm)+min_data3_sm, frr_at_10, frr_at_1, frr_at_01)"
   ]
  },
  {
   "cell_type": "code",
   "execution_count": null,
   "metadata": {},
   "outputs": [],
   "source": [
    "genuine_scores_list, impostor_scores_list = evaluation_functions.get_scores(data3_sm, data3_class_labels)\n",
    "utils.plot_score_distributions(\"Third\", 3, genuine_scores_list, impostor_scores_list)"
   ]
  },
  {
   "cell_type": "code",
   "execution_count": null,
   "metadata": {},
   "outputs": [],
   "source": [
    "utils.plot_roc_curve(\"Third\", 3, far_list, frr_list)"
   ]
  },
  {
   "cell_type": "code",
   "execution_count": null,
   "metadata": {},
   "outputs": [],
   "source": [
    "utils.plot_roc_curve(\"Third\", 3, far_list, frr_list, zoomed=True, axis_values=[0.0, 0.4, 0.6, 1.02])"
   ]
  },
  {
   "cell_type": "code",
   "execution_count": null,
   "metadata": {},
   "outputs": [],
   "source": [
    "frr_list, far_list, eer_threshold_index, eer_threshold = evaluation_functions.find_eer(data4_sm, data4_class_labels)\n",
    "frr_at_01, frr_at_1, frr_at_10 = evaluation_functions.compute_frr_at_far_points(frr_list, far_list)\n",
    "utils.print_results(\"data4\", (frr_list[eer_threshold_index] + far_list[eer_threshold_index]) / 2, frr_list[eer_threshold_index], \n",
    "                    far_list[eer_threshold_index], eer_threshold, eer_threshold*(max_data4_sm-min_data4_sm)+min_data4_sm, frr_at_10, frr_at_1, frr_at_01)"
   ]
  },
  {
   "cell_type": "code",
   "execution_count": null,
   "metadata": {},
   "outputs": [],
   "source": [
    "genuine_scores_list, impostor_scores_list = evaluation_functions.get_scores(data4_sm, data4_class_labels)\n",
    "utils.plot_score_distributions(\"Fourth\", 4, genuine_scores_list, impostor_scores_list)"
   ]
  },
  {
   "cell_type": "code",
   "execution_count": null,
   "metadata": {},
   "outputs": [],
   "source": [
    "utils.plot_roc_curve(\"Fourth\", 4, far_list, frr_list)"
   ]
  },
  {
   "cell_type": "code",
   "execution_count": null,
   "metadata": {},
   "outputs": [],
   "source": [
    "utils.plot_roc_curve(\"Fourth\", 4, far_list, frr_list, zoomed=True, axis_values=[0.0, 0.05, 0.95, 1.0025])"
   ]
  }
 ],
 "metadata": {
  "kernelspec": {
   "display_name": "Python 3",
   "language": "python",
   "name": "python3"
  },
  "language_info": {
   "codemirror_mode": {
    "name": "ipython",
    "version": 3
   },
   "file_extension": ".py",
   "mimetype": "text/x-python",
   "name": "python",
   "nbconvert_exporter": "python",
   "pygments_lexer": "ipython3",
   "version": "3.7.7"
  }
 },
 "nbformat": 4,
 "nbformat_minor": 4
}
