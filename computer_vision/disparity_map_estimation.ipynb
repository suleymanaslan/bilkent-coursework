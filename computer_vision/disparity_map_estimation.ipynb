{
 "cells": [
  {
   "cell_type": "code",
   "execution_count": null,
   "metadata": {},
   "outputs": [],
   "source": [
    "%matplotlib inline\n",
    "\n",
    "import cv2\n",
    "import numpy as np\n",
    "import scipy\n",
    "\n",
    "from tqdm.notebook import tqdm\n",
    "\n",
    "import seaborn as sns\n",
    "\n",
    "import matplotlib.pyplot as plt\n",
    "\n",
    "import utils\n",
    "import disparity_functions"
   ]
  },
  {
   "cell_type": "code",
   "execution_count": null,
   "metadata": {},
   "outputs": [],
   "source": [
    "data_ix = 1\n",
    "if data_ix == 0:\n",
    "    img_list = [cv2.imread(\"dataset/data_disparity_estimation/Plastic/view1.png\"),\n",
    "                cv2.imread(\"dataset/data_disparity_estimation/Plastic/view5.png\")]\n",
    "\n",
    "elif data_ix == 1:\n",
    "    img_list = [cv2.imread(\"dataset/data_disparity_estimation/Cloth1/view1.png\"),\n",
    "                cv2.imread(\"dataset/data_disparity_estimation/Cloth1/view5.png\")]"
   ]
  },
  {
   "cell_type": "code",
   "execution_count": null,
   "metadata": {},
   "outputs": [],
   "source": [
    "fig = plt.figure(figsize=(8*len(img_list), 8))\n",
    "fig.patch.set_facecolor('white')\n",
    "for i in range(len(img_list)):\n",
    "    plt.subplot(1, len(img_list), i+1)\n",
    "    plt.imshow(cv2.cvtColor(img_list[i], cv2.COLOR_BGR2RGB))"
   ]
  },
  {
   "cell_type": "code",
   "execution_count": null,
   "metadata": {},
   "outputs": [],
   "source": [
    "keypoints, descriptors, img_keypoints = utils.find_keypoints(img_list)\n",
    "fig = plt.figure(figsize=(8*len(img_keypoints), 8))\n",
    "fig.patch.set_facecolor('white')\n",
    "for i in range(len(img_keypoints)):\n",
    "    plt.subplot(1, len(img_keypoints), i+1)\n",
    "    plt.imshow(cv2.cvtColor(img_keypoints[i], cv2.COLOR_BGR2RGB))"
   ]
  },
  {
   "cell_type": "code",
   "execution_count": null,
   "metadata": {},
   "outputs": [],
   "source": [
    "matched_points, _ = utils.find_matches(descriptors, use_nndr=False, number_of_matches=50)\n",
    "\n",
    "filtered_keypoints = []\n",
    "filtered_keypoints.append([keypoints[0][match[0]] for match in matched_points])\n",
    "filtered_keypoints.append([keypoints[1][match[1]] for match in matched_points])\n",
    "img_keypoints = []\n",
    "img_keypoints.append(cv2.drawKeypoints(img_list[0], filtered_keypoints[0], None))\n",
    "img_keypoints.append(cv2.drawKeypoints(img_list[1], filtered_keypoints[1], None))\n",
    "\n",
    "fig = plt.figure(figsize=(8*len(img_keypoints), 8))\n",
    "fig.patch.set_facecolor('white')\n",
    "for i in range(len(img_keypoints)):\n",
    "    plt.subplot(1, len(img_keypoints), i+1)\n",
    "    plt.imshow(cv2.cvtColor(img_keypoints[i], cv2.COLOR_BGR2RGB))"
   ]
  },
  {
   "cell_type": "code",
   "execution_count": null,
   "metadata": {},
   "outputs": [],
   "source": [
    "(_, mask) = cv2.findHomography(np.float32([kp.pt for kp in filtered_keypoints[1]]), \n",
    "                               np.float32([kp.pt for kp in filtered_keypoints[0]]), \n",
    "                               cv2.RANSAC, ransacReprojThreshold=3.0)"
   ]
  },
  {
   "cell_type": "code",
   "execution_count": null,
   "metadata": {},
   "outputs": [],
   "source": [
    "good_matches = []\n",
    "good_points_l = []\n",
    "good_points_r = []\n",
    "\n",
    "for i in range(len(mask)):\n",
    "    if mask[i] == 1:\n",
    "        good_points_l.append(filtered_keypoints[0][i])\n",
    "        good_points_r.append(filtered_keypoints[1][i])\n",
    "        \n",
    "good_matches.append(good_points_l)\n",
    "good_matches.append(good_points_r)\n",
    "\n",
    "matches1to2 = [cv2.DMatch(i, i, 0) for i in range(len(good_matches[0]))]\n",
    "\n",
    "matching_img = cv2.drawMatches(img_list[0], filtered_keypoints[0], img_list[1], filtered_keypoints[1], matches1to2, None)\n",
    "fig = plt.figure(figsize=(16, 8))\n",
    "fig.patch.set_facecolor('white')\n",
    "plt.imshow(cv2.cvtColor(matching_img, cv2.COLOR_BGR2RGB))"
   ]
  },
  {
   "cell_type": "code",
   "execution_count": null,
   "metadata": {},
   "outputs": [],
   "source": [
    "left_img_rectified, right_img_rectified = disparity_functions.rectify_images(img_list, filtered_keypoints)\n",
    "fig = plt.figure(figsize=(8*2, 8))\n",
    "fig.patch.set_facecolor('white')\n",
    "plt.subplot(1, 2, 1)\n",
    "plt.imshow(cv2.cvtColor(left_img_rectified, cv2.COLOR_BGR2RGB))\n",
    "plt.subplot(1, 2, 2)\n",
    "plt.imshow(cv2.cvtColor(right_img_rectified, cv2.COLOR_BGR2RGB))"
   ]
  },
  {
   "cell_type": "code",
   "execution_count": null,
   "metadata": {},
   "outputs": [],
   "source": [
    "img_list_r = [cv2.resize(img, (0,0), fx=0.5, fy=0.5) for img in img_list]\n",
    "img_l = img_list_r[0]\n",
    "img_r = img_list_r[1]\n",
    "keypoints_r, descriptors_l, descriptors_r, max_i, max_j = disparity_functions.compute_descriptors(img_l, img_r)"
   ]
  },
  {
   "cell_type": "code",
   "execution_count": null,
   "metadata": {},
   "outputs": [],
   "source": [
    "disp_img = np.zeros((img_l.shape[0], img_l.shape[1]))\n",
    "for i in tqdm(range(img_l.shape[1])):\n",
    "    for j in range(img_l.shape[0]):\n",
    "        matched_point = disparity_functions.match_point(keypoints_r, descriptors_l, descriptors_r, (i, j), 40, max_i, max_j)\n",
    "        disp_img[j][i] = np.sum(np.abs(np.subtract(matched_point, (i, j))))"
   ]
  },
  {
   "cell_type": "code",
   "execution_count": null,
   "metadata": {},
   "outputs": [],
   "source": [
    "fig = plt.figure(figsize=(8, 8))\n",
    "fig.patch.set_facecolor('white')\n",
    "plt.imshow(cv2.resize(disp_img, (0,0), fx=2.0, fy=2.0, interpolation=cv2.INTER_NEAREST), cmap='gray')"
   ]
  },
  {
   "cell_type": "code",
   "execution_count": null,
   "metadata": {},
   "outputs": [],
   "source": [
    "cv2.imwrite(f\"output/disparity_{data_ix}_1.png\", cv2.resize((((disp_img - np.min(disp_img)) / (np.max(disp_img) - np.min(disp_img))) * 255).astype(np.uint8),\n",
    "                                                            (0,0), fx=2.0, fy=2.0, interpolation=cv2.INTER_NEAREST))"
   ]
  },
  {
   "cell_type": "code",
   "execution_count": null,
   "metadata": {},
   "outputs": [],
   "source": [
    "disp_img = np.zeros((img_l.shape[0], img_l.shape[1]))\n",
    "for i in tqdm(range(img_l.shape[1])):\n",
    "    for j in range(img_l.shape[0]):\n",
    "        matched_point = disparity_functions.match_point(keypoints_r, descriptors_l, descriptors_r, (i, j), 40, max_i, max_j, compute_right_img=True)\n",
    "        disp_img[j][i] = np.sum(np.abs(np.subtract(matched_point, (i, j))))"
   ]
  },
  {
   "cell_type": "code",
   "execution_count": null,
   "metadata": {},
   "outputs": [],
   "source": [
    "fig = plt.figure(figsize=(8, 8))\n",
    "fig.patch.set_facecolor('white')\n",
    "plt.imshow(cv2.resize(disp_img, (0,0), fx=2.0, fy=2.0, interpolation=cv2.INTER_NEAREST), cmap='gray')"
   ]
  },
  {
   "cell_type": "code",
   "execution_count": null,
   "metadata": {},
   "outputs": [],
   "source": [
    "cv2.imwrite(f\"output/disparity_{data_ix}_2.png\", cv2.resize((((disp_img - np.min(disp_img)) / (np.max(disp_img) - np.min(disp_img))) * 255).astype(np.uint8),\n",
    "                                                            (0,0), fx=2.0, fy=2.0, interpolation=cv2.INTER_NEAREST))"
   ]
  }
 ],
 "metadata": {
  "kernelspec": {
   "display_name": "Python 3",
   "language": "python",
   "name": "python3"
  },
  "language_info": {
   "codemirror_mode": {
    "name": "ipython",
    "version": 3
   },
   "file_extension": ".py",
   "mimetype": "text/x-python",
   "name": "python",
   "nbconvert_exporter": "python",
   "pygments_lexer": "ipython3",
   "version": "3.7.7"
  }
 },
 "nbformat": 4,
 "nbformat_minor": 4
}
