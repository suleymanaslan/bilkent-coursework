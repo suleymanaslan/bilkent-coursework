{
 "cells": [
  {
   "cell_type": "code",
   "execution_count": null,
   "metadata": {},
   "outputs": [],
   "source": [
    "%matplotlib inline\n",
    "\n",
    "import cv2\n",
    "import numpy as np\n",
    "import scipy\n",
    "\n",
    "import seaborn as sns\n",
    "\n",
    "import matplotlib.pyplot as plt"
   ]
  },
  {
   "cell_type": "code",
   "execution_count": null,
   "metadata": {},
   "outputs": [],
   "source": [
    "data_ix = 4"
   ]
  },
  {
   "cell_type": "code",
   "execution_count": null,
   "metadata": {},
   "outputs": [],
   "source": [
    "if data_ix == 0:\n",
    "    img_list = [cv2.imread(\"dataset/data_image_stitching/im1.png\"),\n",
    "                cv2.imread(\"dataset/data_image_stitching/im2.png\")]\n",
    "\n",
    "elif data_ix == 1:\n",
    "    img_list = [cv2.imread(\"dataset/data_image_stitching/im22.jpg\"),\n",
    "                cv2.imread(\"dataset/data_image_stitching/im23.jpg\")]\n",
    "\n",
    "elif data_ix == 2:\n",
    "    img_list = [cv2.imread(\"output/stitched_img_1.png\"),\n",
    "                cv2.imread(\"dataset/data_image_stitching/im24.jpg\")]\n",
    "\n",
    "elif data_ix == 3:\n",
    "    img_list = [cv2.imread(\"output/stitched_img_2.png\"),\n",
    "                cv2.imread(\"dataset/data_image_stitching/im25.jpg\")]\n",
    "\n",
    "elif data_ix == 4:\n",
    "    img_list = [cv2.imread(\"dataset/data_image_stitching/im89.jpg\"),\n",
    "                cv2.imread(\"dataset/data_image_stitching/im90.jpg\")]"
   ]
  },
  {
   "cell_type": "code",
   "execution_count": null,
   "metadata": {},
   "outputs": [],
   "source": [
    "fig = plt.figure(figsize=(8*len(img_list), 8))\n",
    "fig.patch.set_facecolor('white')\n",
    "for i in range(len(img_list)):\n",
    "    plt.subplot(1, len(img_list), i+1)\n",
    "    plt.imshow(cv2.cvtColor(img_list[i], cv2.COLOR_BGR2RGB))"
   ]
  },
  {
   "cell_type": "code",
   "execution_count": null,
   "metadata": {},
   "outputs": [],
   "source": [
    "sift = cv2.xfeatures2d.SIFT_create()\n",
    "\n",
    "keypoints = []\n",
    "descriptors = []\n",
    "img_keypoints = []\n",
    "\n",
    "for img in img_list:\n",
    "    cur_keypoints, cur_descriptors = sift.detectAndCompute(img, None)\n",
    "    keypoints.append(cur_keypoints)\n",
    "    descriptors.append(cur_descriptors)\n",
    "    img_keypoints.append(cv2.drawKeypoints(img, cur_keypoints, None))\n",
    "\n",
    "fig = plt.figure(figsize=(8*len(img_keypoints), 8))\n",
    "fig.patch.set_facecolor('white')\n",
    "for i in range(len(img_keypoints)):\n",
    "    plt.subplot(1, len(img_keypoints), i+1)\n",
    "    plt.imshow(cv2.cvtColor(img_keypoints[i], cv2.COLOR_BGR2RGB))"
   ]
  },
  {
   "cell_type": "code",
   "execution_count": null,
   "metadata": {},
   "outputs": [],
   "source": [
    "def normalize_descriptor(descriptor):\n",
    "    return (descriptor - np.min(descriptor)) / (np.max(descriptor) - np.min(descriptor))"
   ]
  },
  {
   "cell_type": "code",
   "execution_count": null,
   "metadata": {},
   "outputs": [],
   "source": [
    "number_of_matches = 100\n",
    "pairwise_distances = scipy.spatial.distance.cdist(normalize_descriptor(descriptors[0]), normalize_descriptor(descriptors[1]))\n",
    "matched_points = []\n",
    "for i in range(number_of_matches):\n",
    "    min_index = np.argmin(pairwise_distances)\n",
    "    first_point = min_index // pairwise_distances.shape[1]\n",
    "    second_point = min_index % pairwise_distances.shape[1]\n",
    "    matched_points.append((first_point, second_point))\n",
    "    pairwise_distances[min_index // pairwise_distances.shape[1],:] = np.inf\n",
    "    pairwise_distances[:,min_index % pairwise_distances.shape[1]] = np.inf"
   ]
  },
  {
   "cell_type": "code",
   "execution_count": null,
   "metadata": {},
   "outputs": [],
   "source": [
    "filtered_keypoints = []\n",
    "filtered_keypoints.append([keypoints[0][match[0]] for match in matched_points])\n",
    "filtered_keypoints.append([keypoints[1][match[1]] for match in matched_points])\n",
    "img_keypoints = []\n",
    "img_keypoints.append(cv2.drawKeypoints(img_list[0], filtered_keypoints[0], None))\n",
    "img_keypoints.append(cv2.drawKeypoints(img_list[1], filtered_keypoints[1], None))\n",
    "\n",
    "fig = plt.figure(figsize=(8*len(img_keypoints), 8))\n",
    "fig.patch.set_facecolor('white')\n",
    "for i in range(len(img_keypoints)):\n",
    "    plt.subplot(1, len(img_keypoints), i+1)\n",
    "    plt.imshow(cv2.cvtColor(img_keypoints[i], cv2.COLOR_BGR2RGB))"
   ]
  },
  {
   "cell_type": "code",
   "execution_count": null,
   "metadata": {},
   "outputs": [],
   "source": [
    "matches1to2 = [cv2.DMatch(i, i, 0) for i in range(number_of_matches)]\n",
    "matching_img = cv2.drawMatches(img_list[0], filtered_keypoints[0], img_list[1], filtered_keypoints[1], matches1to2, None)\n",
    "fig = plt.figure(figsize=(16, 8))\n",
    "fig.patch.set_facecolor('white')\n",
    "plt.imshow(cv2.cvtColor(matching_img, cv2.COLOR_BGR2RGB))"
   ]
  },
  {
   "cell_type": "code",
   "execution_count": null,
   "metadata": {},
   "outputs": [],
   "source": [
    "(homography, mask) = cv2.findHomography(np.float32([kp.pt for kp in filtered_keypoints[1]]), \n",
    "                                        np.float32([kp.pt for kp in filtered_keypoints[0]]), \n",
    "                                        cv2.RANSAC, ransacReprojThreshold=3.0)\n",
    "\n",
    "height1, width1 = img_list[0].shape[:2]\n",
    "height2, width2 = img_list[1].shape[:2]\n",
    "pts = np.concatenate((np.float32([[0, 0], [0, height1], [width1, height1], [width1, 0]]).reshape(-1, 1, 2), \n",
    "                      cv2.perspectiveTransform(np.float32([[0, 0], [0, height2], [width2, height2], [width2, 0]]).reshape(-1, 1, 2), homography)), \n",
    "                     axis=0)\n",
    "[xmin, ymin] = np.int32(np.min(pts, axis=0).squeeze() - 0.5)\n",
    "[xmax, ymax] = np.int32(np.max(pts, axis=0).squeeze() + 0.5)\n",
    "t = [-xmin, -ymin]\n",
    "ht = np.array([[1, 0, t[0]], [0, 1, t[1]], [0, 0, 1]])\n",
    "\n",
    "stitch_r = np.zeros((ymax - ymin, xmax - xmin, 3)).astype(np.uint8)\n",
    "trans_mat = cv2.invert(ht.dot(homography))[1]\n",
    "for i in range(ymax - ymin):\n",
    "    for j in range(xmax - xmin):\n",
    "        img_i = int((trans_mat[1][0] * j + trans_mat[1][1] * i + trans_mat[1][2]) / (trans_mat[2][0] * j + trans_mat[2][1] * i + trans_mat[2][2]))\n",
    "        img_j = int((trans_mat[0][0] * j + trans_mat[0][1] * i + trans_mat[0][2]) / (trans_mat[2][0] * j + trans_mat[2][1] * i + trans_mat[2][2]))\n",
    "        if img_i >= 0 and img_j >= 0 and img_i < img_list[1].shape[0] and img_j < img_list[1].shape[1]:\n",
    "            stitch_r[i][j] = img_list[1][img_i][img_j]"
   ]
  },
  {
   "cell_type": "code",
   "execution_count": null,
   "metadata": {},
   "outputs": [],
   "source": [
    "fig = plt.figure(figsize=(12, 8))\n",
    "fig.patch.set_facecolor('white')\n",
    "plt.imshow(cv2.cvtColor(stitch_r, cv2.COLOR_BGR2RGB))"
   ]
  },
  {
   "cell_type": "code",
   "execution_count": null,
   "metadata": {},
   "outputs": [],
   "source": [
    "stitch_l = np.zeros_like(stitch_r)\n",
    "stitch_l[t[1]:height1 + t[1], t[0]:width1 + t[0]] = img_list[0]\n",
    "fig = plt.figure(figsize=(12, 8))\n",
    "fig.patch.set_facecolor('white')\n",
    "plt.imshow(cv2.cvtColor(stitch_l, cv2.COLOR_BGR2RGB))"
   ]
  },
  {
   "cell_type": "code",
   "execution_count": null,
   "metadata": {},
   "outputs": [],
   "source": [
    "stitch_mask = np.ones_like(stitch_r, dtype=np.float32)\n",
    "stitch_mask[stitch_r > 0] = 0\n",
    "stitch_mask[stitch_l == 0] = 1\n",
    "start_col = np.min(np.where(stitch_mask == 0)[1])\n",
    "end_col = np.max(np.where(stitch_mask == 0)[1])\n",
    "for i in range(stitch_mask.shape[1]):\n",
    "    col_value = np.ones(stitch_mask[:,i].shape) * (i - start_col) / (end_col - start_col)\n",
    "    col_value[np.logical_and(stitch_r[:,i] > 0, stitch_l[:,i] == 0)] = 1\n",
    "    col_value[np.logical_and(stitch_r[:,i] == 0, stitch_l[:,i] > 0)] = 0\n",
    "    col_value = np.clip(col_value, 0.0, 1.0)\n",
    "    stitch_mask[:,i] = col_value\n",
    "result = np.uint8((stitch_r * stitch_mask) + (stitch_l * (1 - stitch_mask)))\n",
    "fig = plt.figure(figsize=(12, 8))\n",
    "fig.patch.set_facecolor('white')\n",
    "plt.imshow(cv2.cvtColor(result, cv2.COLOR_BGR2RGB))"
   ]
  },
  {
   "cell_type": "code",
   "execution_count": null,
   "metadata": {},
   "outputs": [],
   "source": [
    "cv2.imwrite(f\"output/stitched_img_{data_ix}.png\", result)"
   ]
  }
 ],
 "metadata": {
  "kernelspec": {
   "display_name": "cs554",
   "language": "python",
   "name": "cs554"
  },
  "language_info": {
   "codemirror_mode": {
    "name": "ipython",
    "version": 3
   },
   "file_extension": ".py",
   "mimetype": "text/x-python",
   "name": "python",
   "nbconvert_exporter": "python",
   "pygments_lexer": "ipython3",
   "version": "3.7.7"
  }
 },
 "nbformat": 4,
 "nbformat_minor": 4
}
