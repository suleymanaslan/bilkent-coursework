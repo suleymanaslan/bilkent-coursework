{
 "cells": [
  {
   "cell_type": "code",
   "execution_count": null,
   "metadata": {},
   "outputs": [],
   "source": [
    "%matplotlib inline\n",
    "\n",
    "import cv2\n",
    "import numpy as np\n",
    "import scipy\n",
    "\n",
    "import seaborn as sns\n",
    "\n",
    "import matplotlib.pyplot as plt\n",
    "\n",
    "import utils\n",
    "import stitching_functions"
   ]
  },
  {
   "cell_type": "code",
   "execution_count": null,
   "metadata": {},
   "outputs": [],
   "source": [
    "data_ix = 0\n",
    "if data_ix == 0:\n",
    "    nndr_threshold = 0.35\n",
    "    step_size = 0.001\n",
    "    residual_stopping_threshold = 0.1\n",
    "    img_list = [cv2.imread(\"dataset/data_image_stitching/im1.png\"),\n",
    "                cv2.imread(\"dataset/data_image_stitching/im2.png\")]\n",
    "\n",
    "elif data_ix == 1:\n",
    "    nndr_threshold = 0.40\n",
    "    step_size = 0.001\n",
    "    residual_stopping_threshold = 10\n",
    "    img_list = [cv2.imread(\"dataset/data_image_stitching/im22.jpg\"),\n",
    "                cv2.imread(\"dataset/data_image_stitching/im23.jpg\")]\n",
    "\n",
    "elif data_ix == 2:\n",
    "    nndr_threshold = 0.25\n",
    "    step_size = 0.001\n",
    "    residual_stopping_threshold = 0.1\n",
    "    img_list = [cv2.imread(\"output/stitched_img_1.png\"),\n",
    "                cv2.imread(\"dataset/data_image_stitching/im24.jpg\")]\n",
    "\n",
    "elif data_ix == 3:\n",
    "    nndr_threshold = 0.33\n",
    "    step_size = 0.01\n",
    "    residual_stopping_threshold = 0.02\n",
    "    img_list = [cv2.imread(\"output/stitched_img_2.png\"),\n",
    "                cv2.imread(\"dataset/data_image_stitching/im25.jpg\")]\n",
    "\n",
    "elif data_ix == 4:\n",
    "    nndr_threshold = 0.35\n",
    "    step_size = 0.001\n",
    "    residual_stopping_threshold = 0.1\n",
    "    img_list = [cv2.imread(\"dataset/data_image_stitching/im89.jpg\"),\n",
    "                cv2.imread(\"dataset/data_image_stitching/im90.jpg\")]"
   ]
  },
  {
   "cell_type": "code",
   "execution_count": null,
   "metadata": {},
   "outputs": [],
   "source": [
    "fig = plt.figure(figsize=(8*len(img_list), 8))\n",
    "fig.patch.set_facecolor('white')\n",
    "for i in range(len(img_list)):\n",
    "    plt.subplot(1, len(img_list), i+1)\n",
    "    plt.imshow(cv2.cvtColor(img_list[i], cv2.COLOR_BGR2RGB))"
   ]
  },
  {
   "cell_type": "code",
   "execution_count": null,
   "metadata": {},
   "outputs": [],
   "source": [
    "keypoints, descriptors, img_keypoints = utils.find_keypoints(img_list)\n",
    "fig = plt.figure(figsize=(8*len(img_keypoints), 8))\n",
    "fig.patch.set_facecolor('white')\n",
    "for i in range(len(img_keypoints)):\n",
    "    plt.subplot(1, len(img_keypoints), i+1)\n",
    "    plt.imshow(cv2.cvtColor(img_keypoints[i], cv2.COLOR_BGR2RGB))"
   ]
  },
  {
   "cell_type": "code",
   "execution_count": null,
   "metadata": {},
   "outputs": [],
   "source": [
    "matched_points, matches1to2, eligible_matches = utils.find_matches(descriptors)\n",
    "\n",
    "filtered_keypoints = []\n",
    "filtered_keypoints.append([keypoints[0][match[0]] for match in matched_points])\n",
    "filtered_keypoints.append([keypoints[1][match[1]] for match in matched_points])\n",
    "img_keypoints = []\n",
    "img_keypoints.append(cv2.drawKeypoints(img_list[0], filtered_keypoints[0], None))\n",
    "img_keypoints.append(cv2.drawKeypoints(img_list[1], filtered_keypoints[1], None))\n",
    "\n",
    "fig = plt.figure(figsize=(8*len(img_keypoints), 8))\n",
    "fig.patch.set_facecolor('white')\n",
    "for i in range(len(img_keypoints)):\n",
    "    plt.subplot(1, len(img_keypoints), i+1)\n",
    "    plt.imshow(cv2.cvtColor(img_keypoints[i], cv2.COLOR_BGR2RGB))"
   ]
  },
  {
   "cell_type": "code",
   "execution_count": null,
   "metadata": {},
   "outputs": [],
   "source": [
    "matching_img = cv2.drawMatches(img_list[0], filtered_keypoints[0], img_list[1], filtered_keypoints[1], matches1to2, None)\n",
    "fig = plt.figure(figsize=(16, 8))\n",
    "fig.patch.set_facecolor('white')\n",
    "plt.imshow(cv2.cvtColor(matching_img, cv2.COLOR_BGR2RGB))"
   ]
  },
  {
   "cell_type": "code",
   "execution_count": null,
   "metadata": {},
   "outputs": [],
   "source": [
    "use_package = False\n",
    "\n",
    "if use_package:\n",
    "    (homography, mask) = cv2.findHomography(np.float32([kp.pt for kp in filtered_keypoints[1]]), \n",
    "                                            np.float32([kp.pt for kp in filtered_keypoints[0]]), \n",
    "                                            cv2.RANSAC, ransacReprojThreshold=3.0)\n",
    "\n",
    "else:\n",
    "    homography = stitching_functions.find_homography(eligible_matches, keypoints[0], keypoints[1], step_size, residual_stopping_threshold)\n",
    "\n",
    "t, ht, ymax, ymin, xmax, xmin, height1, width1 = stitching_functions.perspective_transform(img_list, homography)\n",
    "stitch_r = stitching_functions.warp_perspective(img_list, ymax, ymin, xmax, xmin, ht, homography)\n",
    "fig = plt.figure(figsize=(12, 8))\n",
    "fig.patch.set_facecolor('white')\n",
    "plt.imshow(cv2.cvtColor(stitch_r, cv2.COLOR_BGR2RGB))"
   ]
  },
  {
   "cell_type": "code",
   "execution_count": null,
   "metadata": {},
   "outputs": [],
   "source": [
    "stitch_l = np.zeros_like(stitch_r)\n",
    "stitch_l[t[1]:height1 + t[1], t[0]:width1 + t[0]] = img_list[0]\n",
    "fig = plt.figure(figsize=(12, 8))\n",
    "fig.patch.set_facecolor('white')\n",
    "plt.imshow(cv2.cvtColor(stitch_l, cv2.COLOR_BGR2RGB))"
   ]
  },
  {
   "cell_type": "code",
   "execution_count": null,
   "metadata": {},
   "outputs": [],
   "source": [
    "result = stitching_functions.alpha_blending(stitch_r, stitch_l)\n",
    "fig = plt.figure(figsize=(12, 8))\n",
    "fig.patch.set_facecolor('white')\n",
    "plt.imshow(cv2.cvtColor(result, cv2.COLOR_BGR2RGB))"
   ]
  },
  {
   "cell_type": "code",
   "execution_count": null,
   "metadata": {},
   "outputs": [],
   "source": [
    "clipped_img = stitching_functions.clip_image(result, t)\n",
    "fig = plt.figure(figsize=(12, 8))\n",
    "fig.patch.set_facecolor('white')\n",
    "plt.imshow(cv2.cvtColor(clipped_img, cv2.COLOR_BGR2RGB))"
   ]
  },
  {
   "cell_type": "code",
   "execution_count": null,
   "metadata": {},
   "outputs": [],
   "source": [
    "cv2.imwrite(f\"output/stitched_img_{data_ix}.png\", clipped_img)"
   ]
  }
 ],
 "metadata": {
  "kernelspec": {
   "display_name": "cs554",
   "language": "python",
   "name": "cs554"
  },
  "language_info": {
   "codemirror_mode": {
    "name": "ipython",
    "version": 3
   },
   "file_extension": ".py",
   "mimetype": "text/x-python",
   "name": "python",
   "nbconvert_exporter": "python",
   "pygments_lexer": "ipython3",
   "version": "3.7.7"
  }
 },
 "nbformat": 4,
 "nbformat_minor": 4
}
