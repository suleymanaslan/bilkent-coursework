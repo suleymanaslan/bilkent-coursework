{
 "cells": [
  {
   "cell_type": "code",
   "execution_count": null,
   "metadata": {},
   "outputs": [],
   "source": [
    "import seaborn\n",
    "from IPython import display\n",
    "\n",
    "seaborn.set()\n",
    "\n",
    "import utils\n",
    "import clustering_functions"
   ]
  },
  {
   "cell_type": "code",
   "execution_count": null,
   "metadata": {},
   "outputs": [],
   "source": [
    "dataset1, dataset2, dataset3 = utils.read_dataset2()\n",
    "dataset1, dataset2, dataset3 = utils.normalize_dataset2(dataset1, dataset2, dataset3)\n",
    "\n",
    "color_list = ['firebrick','darkorange','darkgoldenrod','forestgreen','dodgerblue','blueviolet','magenta', 'black']\n",
    "utils.plot_dataset2(dataset1, dataset2, dataset3, color_list)"
   ]
  },
  {
   "cell_type": "code",
   "execution_count": null,
   "metadata": {},
   "outputs": [],
   "source": [
    "clustering_functions.kmeans(dataset1, k=7, dataname=\"dataset1\", create_anim_file=True, color_list=color_list)\n",
    "display.Image(filename='gif/kmeans_dataset1.gif')"
   ]
  },
  {
   "cell_type": "code",
   "execution_count": null,
   "metadata": {},
   "outputs": [],
   "source": [
    "clustering_functions.kmeans(dataset2, k=3, dataname=\"dataset2\", create_anim_file=True, color_list=color_list)\n",
    "display.Image(filename='gif/kmeans_dataset2.gif')"
   ]
  },
  {
   "cell_type": "code",
   "execution_count": null,
   "metadata": {},
   "outputs": [],
   "source": [
    "clustering_functions.kmeans(dataset3, k=2, dataname=\"dataset3\", create_anim_file=True, color_list=color_list)\n",
    "display.Image(filename='gif/kmeans_dataset3.gif')"
   ]
  },
  {
   "cell_type": "code",
   "execution_count": null,
   "metadata": {},
   "outputs": [],
   "source": [
    "%timeit clustering_functions.kmeans(dataset1, k=7, dataname=\"dataset1\", create_anim_file=False, print_output=False)"
   ]
  },
  {
   "cell_type": "code",
   "execution_count": null,
   "metadata": {},
   "outputs": [],
   "source": [
    "%timeit clustering_functions.kmeans(dataset2, k=3, dataname=\"dataset2\", create_anim_file=False, print_output=False)"
   ]
  },
  {
   "cell_type": "code",
   "execution_count": null,
   "metadata": {},
   "outputs": [],
   "source": [
    "%timeit clustering_functions.kmeans(dataset3, k=2, dataname=\"dataset3\", create_anim_file=False, print_output=False)"
   ]
  },
  {
   "cell_type": "code",
   "execution_count": null,
   "metadata": {},
   "outputs": [],
   "source": [
    "clustering_functions.single_linkage(dataset1, nb_of_clusters=7, dataname=\"dataset1\", create_anim_file=True, plot_every_iter=50, color_list=color_list)\n",
    "display.Image(filename='gif/singlelinkage_dataset1.gif')"
   ]
  },
  {
   "cell_type": "code",
   "execution_count": null,
   "metadata": {},
   "outputs": [],
   "source": [
    "clustering_functions.single_linkage(dataset2, nb_of_clusters=3, dataname=\"dataset2\", create_anim_file=True, plot_every_iter=20, color_list=color_list)\n",
    "display.Image(filename='gif/singlelinkage_dataset2.gif')"
   ]
  },
  {
   "cell_type": "code",
   "execution_count": null,
   "metadata": {},
   "outputs": [],
   "source": [
    "clustering_functions.single_linkage(dataset3, nb_of_clusters=2, dataname=\"dataset3\", create_anim_file=True, color_list=color_list)\n",
    "display.Image(filename='gif/singlelinkage_dataset3.gif')"
   ]
  },
  {
   "cell_type": "code",
   "execution_count": null,
   "metadata": {},
   "outputs": [],
   "source": [
    "clustering_functions.complete_linkage(dataset1, nb_of_clusters=7, dataname=\"dataset1\", create_anim_file=True, plot_every_iter=50, color_list=color_list)\n",
    "display.Image(filename='gif/completelinkage_dataset1.gif')"
   ]
  },
  {
   "cell_type": "code",
   "execution_count": null,
   "metadata": {},
   "outputs": [],
   "source": [
    "clustering_functions.complete_linkage(dataset2, nb_of_clusters=3, dataname=\"dataset2\", create_anim_file=True, plot_every_iter=20, color_list=color_list)\n",
    "display.Image(filename='gif/completelinkage_dataset2.gif')"
   ]
  },
  {
   "cell_type": "code",
   "execution_count": null,
   "metadata": {},
   "outputs": [],
   "source": [
    "clustering_functions.complete_linkage(dataset3, nb_of_clusters=2, dataname=\"dataset3\", create_anim_file=True, color_list=color_list)\n",
    "display.Image(filename='gif/completelinkage_dataset3.gif')"
   ]
  },
  {
   "cell_type": "code",
   "execution_count": null,
   "metadata": {},
   "outputs": [],
   "source": [
    "clustering_functions.group_average(dataset1, nb_of_clusters=7, dataname=\"dataset1\", create_anim_file=True, plot_every_iter=50, color_list=color_list)\n",
    "display.Image(filename='gif/groupaverage_dataset1.gif')"
   ]
  },
  {
   "cell_type": "code",
   "execution_count": null,
   "metadata": {},
   "outputs": [],
   "source": [
    "clustering_functions.group_average(dataset2, nb_of_clusters=3, dataname=\"dataset2\", create_anim_file=True, plot_every_iter=20, color_list=color_list)\n",
    "display.Image(filename='gif/groupaverage_dataset2.gif')"
   ]
  },
  {
   "cell_type": "code",
   "execution_count": null,
   "metadata": {},
   "outputs": [],
   "source": [
    "clustering_functions.group_average(dataset3, nb_of_clusters=2, dataname=\"dataset3\", create_anim_file=True, color_list=color_list)\n",
    "display.Image(filename='gif/groupaverage_dataset3.gif')"
   ]
  },
  {
   "cell_type": "code",
   "execution_count": null,
   "metadata": {},
   "outputs": [],
   "source": [
    "clustering_functions.dbscan(dataset1, min_pts=230, eps=0.795, dataname=\"dataset1\", create_anim_file=True, color_list=color_list)\n",
    "display.Image(filename='gif/dbscan_dataset1.gif')"
   ]
  },
  {
   "cell_type": "code",
   "execution_count": null,
   "metadata": {},
   "outputs": [],
   "source": [
    "clustering_functions.dbscan(dataset2, min_pts=30, eps=0.4, dataname=\"dataset2\", create_anim_file=True, color_list=color_list)\n",
    "display.Image(filename='gif/dbscan_dataset2.gif')"
   ]
  },
  {
   "cell_type": "code",
   "execution_count": null,
   "metadata": {},
   "outputs": [],
   "source": [
    "clustering_functions.dbscan(dataset3, min_pts=45, eps=0.927, dataname=\"dataset3\", create_anim_file=True, color_list=color_list)\n",
    "display.Image(filename='gif/dbscan_dataset3.gif')"
   ]
  }
 ],
 "metadata": {
  "kernelspec": {
   "display_name": "Python 3",
   "language": "python",
   "name": "python3"
  },
  "language_info": {
   "codemirror_mode": {
    "name": "ipython",
    "version": 3
   },
   "file_extension": ".py",
   "mimetype": "text/x-python",
   "name": "python",
   "nbconvert_exporter": "python",
   "pygments_lexer": "ipython3",
   "version": "3.7.7"
  }
 },
 "nbformat": 4,
 "nbformat_minor": 4
}
